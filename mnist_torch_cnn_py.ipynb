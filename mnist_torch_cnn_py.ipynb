{
  "nbformat": 4,
  "nbformat_minor": 0,
  "metadata": {
    "colab": {
      "name": "mnist_torch_cnn.py",
      "provenance": [],
      "collapsed_sections": [],
      "include_colab_link": true
    },
    "kernelspec": {
      "name": "python3",
      "display_name": "Python 3"
    }
  },
  "cells": [
    {
      "cell_type": "markdown",
      "metadata": {
        "id": "view-in-github",
        "colab_type": "text"
      },
      "source": [
        "<a href=\"https://colab.research.google.com/github/Saeeeae/Pytorch-Studying/blob/master/mnist_torch_cnn_py.ipynb\" target=\"_parent\"><img src=\"https://colab.research.google.com/assets/colab-badge.svg\" alt=\"Open In Colab\"/></a>"
      ]
    },
    {
      "cell_type": "code",
      "metadata": {
        "id": "gV5kbF2Sc7EI",
        "colab_type": "code",
        "colab": {}
      },
      "source": [
        "import torch\n",
        "from torch.autograd import Variable\n",
        "import torchvision.datasets as dsets\n",
        "import torchvision.transforms as transforms\n",
        "import torch.nn.init"
      ],
      "execution_count": 0,
      "outputs": []
    },
    {
      "cell_type": "code",
      "metadata": {
        "id": "RAgLtu0edH2S",
        "colab_type": "code",
        "colab": {}
      },
      "source": [
        "# parameters\n",
        "learning_rate = 0.001\n",
        "training_epochs = 15\n",
        "batch_size = 100\n",
        "\n",
        "# MNIST dataset\n",
        "mnist_train = dsets.MNIST(root='MNIST_data/',\n",
        "                          train=True,\n",
        "                          transform=transforms.ToTensor(),\n",
        "                          download=True)\n",
        "\n",
        "mnist_test = dsets.MNIST(root='MNIST_data/',\n",
        "                         train=False,\n",
        "                         transform=transforms.ToTensor(),\n",
        "                         download=True)\n",
        "\n",
        "# dataset loader\n",
        "data_loader = torch.utils.data.DataLoader(dataset=mnist_train,\n",
        "                                          batch_size=batch_size,\n",
        "                                          shuffle=True)"
      ],
      "execution_count": 0,
      "outputs": []
    },
    {
      "cell_type": "code",
      "metadata": {
        "id": "IwXKq0dRdb-q",
        "colab_type": "code",
        "colab": {}
      },
      "source": [
        "class CNN(torch.nn.Module):\n",
        "\n",
        "  def __init__(self):\n",
        "    super(CNN, self).__init__()\n",
        "    self._build_net()\n",
        "  \n",
        "  def _build_net(self):\n",
        "    # dropout (keep_prob) rate 0.7-0.5 on training\n",
        "    self.keep_prob = 0.7\n",
        "\n",
        "    # L1 ImgIn shape = (?, 28, 28, 1)\n",
        "    #     Conv     ->  (?, 28, 28, 32)\n",
        "    #     Pool     ->  (?, 14, 14, 32)\n",
        "    self.layer1 = torch.nn.Sequential(\n",
        "        torch.nn.Conv2d(1, 32, kernel_size=3, stride=1, padding=1),\n",
        "        torch.nn.ReLU(),\n",
        "        torch.nn.MaxPool2d(kernel_size=2, stride=2),\n",
        "        torch.nn.Dropout(p=1 - self.keep_prob)\n",
        "    )\n",
        "    # L2 ImgIn shape = (?, 14, 14, 32)\n",
        "    #     Conv     ->  (?, 14, 14, 64)\n",
        "    #     Pool     ->  (?, 7, 7, 64)\n",
        "    self.layer2 = torch.nn.Sequential(\n",
        "        torch.nn.Conv2d(32, 64, kernel_size=3, stride=1, padding=1),\n",
        "        torch.nn.ReLU(),\n",
        "        torch.nn.MaxPool2d(kernel_size=2, stride=2),\n",
        "        torch.nn.Dropout(p=1 - self.keep_prob)\n",
        "    )\n",
        "    # L3 ImgIn shape = (?, 7, 7, 64)\n",
        "    #     Conv     ->  (?, 7, 7, 128)\n",
        "    #     Pool     ->  (?, 4, 4, 128)\n",
        "    self.layer3 = torch.nn.Sequential(\n",
        "        torch.nn.Conv2d(64, 128, kernel_size=3, stride=1, padding=1),\n",
        "        torch.nn.ReLU(),\n",
        "        torch.nn.MaxPool2d(kernel_size=2, stride=2, padding=1),\n",
        "        torch.nn.Dropout(p=1-self.keep_prob)\n",
        "    )\n",
        "    # L4 FC 4*4*128 inputs -> 625 outputs\n",
        "    self.keep_prob= 0.5\n",
        "    self.fc1 = torch.nn.Linear(4*4*128, 625, bias= True)\n",
        "    torch.nn.init.xavier_uniform(self.fc1.weight)\n",
        "    self.layer4 = torch.nn.Sequential(\n",
        "        self.fc1,\n",
        "        torch.nn.ReLU(),\n",
        "        torch.nn.Dropout(p=1-self.keep_prob)\n",
        "    )\n",
        "    # L5 Final FC 625 inputs -> 10 outputs\n",
        "    self.fc2 = torch.nn.Linear(625, 10, bias = True)\n",
        "    torch.nn.init.xavier_uniform(self.fc2.weight)\n",
        "\n",
        "    # define cost/loss & optimizer\n",
        "    self.criterion = torch.nn.CrossEntropyLoss() # Softmax is internally computed\n",
        "    self.optimizer = torch.optim.Adam(self.parameters(), lr=learning_rate)\n",
        "\n",
        "  def forward(self, x):\n",
        "    out = self.layer1(x)\n",
        "    out = self.layer2(out)\n",
        "    out = self.layer3(out)\n",
        "    out = out.view(out.size(0),-1) # Flatten them for FC\n",
        "    out = self.fc1(out)\n",
        "    out = self.fc2(out)\n",
        "    return out\n",
        "\n",
        "  def predict(self, x):\n",
        "    self.eval()\n",
        "    return self.forward(x)\n",
        "\n",
        "  def get_accuracy(self,x, y):\n",
        "    prediction = self.predict(x)\n",
        "    correct_prediction = (torch.max(prediction.data, 1)[1] == y.data)\n",
        "    self.accuracy = correct_prediction.float().mean()\n",
        "    return self.accuracy\n",
        "\n",
        "  def train_model(self, x, y):\n",
        "    self.train()\n",
        "    self.optimizer.zero_grad()\n",
        "    hypothesis = self.forward(x)\n",
        "    self.cost = self.criterion(hypothesis, y)\n",
        "    self.cost.backward()\n",
        "    self.optimizer.step()\n",
        "    return self.cost\n",
        "    \n"
      ],
      "execution_count": 0,
      "outputs": []
    },
    {
      "cell_type": "code",
      "metadata": {
        "id": "wIfJsxydodzF",
        "colab_type": "code",
        "outputId": "9659542f-cdca-4a59-b7ce-7ef4b8853320",
        "colab": {
          "base_uri": "https://localhost:8080/",
          "height": 379
        }
      },
      "source": [
        "# instantiate CNN model\n",
        "model = CNN()\n",
        "\n",
        "# train my model\n",
        "print(\"Learning started. It takes sometime.\")\n",
        "for epoch in range(training_epochs):\n",
        "  avg_cost = 0\n",
        "  total_batch = len(mnist_train) // batch_size\n",
        "\n",
        "  for i, (batch_xs, batch_ys) in enumerate(data_loader):\n",
        "    X = Variable(batch_xs)\n",
        "    Y = Variable(batch_ys)\n",
        "\n",
        "    cost = model.train_model(X, Y)\n",
        "\n",
        "    avg_cost += cost.data / total_batch\n",
        "  \n",
        "  print(\"[Epoch: {:>4}] cost = {:>.9}\".format(epoch + 1, avg_cost))\n",
        "\n",
        "print('Learning Finished!')"
      ],
      "execution_count": 0,
      "outputs": [
        {
          "output_type": "stream",
          "text": [
            "/usr/local/lib/python3.6/dist-packages/ipykernel_launcher.py:41: UserWarning: nn.init.xavier_uniform is now deprecated in favor of nn.init.xavier_uniform_.\n",
            "/usr/local/lib/python3.6/dist-packages/ipykernel_launcher.py:49: UserWarning: nn.init.xavier_uniform is now deprecated in favor of nn.init.xavier_uniform_.\n"
          ],
          "name": "stderr"
        },
        {
          "output_type": "stream",
          "text": [
            "Learning started. It takes sometime.\n",
            "[Epoch:    1] cost = 0.298821002\n",
            "[Epoch:    2] cost = 0.0854292884\n",
            "[Epoch:    3] cost = 0.0694329888\n",
            "[Epoch:    4] cost = 0.0587889962\n",
            "[Epoch:    5] cost = 0.0524487197\n",
            "[Epoch:    6] cost = 0.0514947213\n",
            "[Epoch:    7] cost = 0.0469192043\n",
            "[Epoch:    8] cost = 0.0437032916\n",
            "[Epoch:    9] cost = 0.0421634316\n",
            "[Epoch:   10] cost = 0.0404786356\n",
            "[Epoch:   11] cost = 0.0373885073\n",
            "[Epoch:   12] cost = 0.037577346\n",
            "[Epoch:   13] cost = 0.0357362218\n",
            "[Epoch:   14] cost = 0.0343651809\n",
            "[Epoch:   15] cost = 0.0342448428\n",
            "Learning Finished!\n"
          ],
          "name": "stdout"
        }
      ]
    },
    {
      "cell_type": "code",
      "metadata": {
        "id": "B2nXcss1pC5q",
        "colab_type": "code",
        "outputId": "8445d147-b372-437f-bd59-facfbbc789f5",
        "colab": {
          "base_uri": "https://localhost:8080/",
          "height": 127
        }
      },
      "source": [
        "# Test model and check accuracy\n",
        "X_test = Variable(mnist_test.test_data.view(len(mnist_test), 1, 28, 28).float())\n",
        "Y_test = Variable(mnist_test.test_labels)\n",
        "\n",
        "print('Accuracy:', model.get_accuracy(X_test, Y_test))"
      ],
      "execution_count": 0,
      "outputs": [
        {
          "output_type": "stream",
          "text": [
            "/usr/local/lib/python3.6/dist-packages/torchvision/datasets/mnist.py:58: UserWarning: test_data has been renamed data\n",
            "  warnings.warn(\"test_data has been renamed data\")\n",
            "/usr/local/lib/python3.6/dist-packages/torchvision/datasets/mnist.py:48: UserWarning: test_labels has been renamed targets\n",
            "  warnings.warn(\"test_labels has been renamed targets\")\n"
          ],
          "name": "stderr"
        },
        {
          "output_type": "stream",
          "text": [
            "Accuracy: tensor(0.8008)\n"
          ],
          "name": "stdout"
        }
      ]
    },
    {
      "cell_type": "code",
      "metadata": {
        "id": "wWHylgM4w7zF",
        "colab_type": "code",
        "colab": {}
      },
      "source": [
        ""
      ],
      "execution_count": 0,
      "outputs": []
    }
  ]
}