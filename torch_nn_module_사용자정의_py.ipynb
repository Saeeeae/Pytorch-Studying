{
  "nbformat": 4,
  "nbformat_minor": 0,
  "metadata": {
    "colab": {
      "name": "torch_nn_module_사용자정의.py",
      "provenance": [],
      "collapsed_sections": [],
      "include_colab_link": true
    },
    "kernelspec": {
      "name": "python3",
      "display_name": "Python 3"
    }
  },
  "cells": [
    {
      "cell_type": "markdown",
      "metadata": {
        "id": "view-in-github",
        "colab_type": "text"
      },
      "source": [
        "<a href=\"https://colab.research.google.com/github/Saeeeae/Pytorch-Studying/blob/master/torch_nn_module_%EC%82%AC%EC%9A%A9%EC%9E%90%EC%A0%95%EC%9D%98_py.ipynb\" target=\"_parent\"><img src=\"https://colab.research.google.com/assets/colab-badge.svg\" alt=\"Open In Colab\"/></a>"
      ]
    },
    {
      "cell_type": "code",
      "metadata": {
        "id": "mnhzSFzYhjdu",
        "colab_type": "code",
        "colab": {}
      },
      "source": [
        "import torch\n",
        "from torch.autograd import Variable\n",
        "\n",
        "# 2-Layer NN 사용자정의 Module "
      ],
      "execution_count": 0,
      "outputs": []
    },
    {
      "cell_type": "code",
      "metadata": {
        "id": "6rLMCP7xj3K_",
        "colab_type": "code",
        "colab": {}
      },
      "source": [
        "class TwoLayerNet(torch.nn.Module):\n",
        "  def __init__(self, D_in, H, D_out):\n",
        "    super(TwoLayerNet, self).__init__()\n",
        "    self.linear1 = torch.nn.Linear(D_in, H)\n",
        "    self.linear2 = torch.nn.Linear(H, D_out)\n",
        "\n",
        "  # 기존 model을 Module화 했을때 기존에 내장된 forward, backward 함수가 존재하는데\n",
        "  # 이를 override 해서 사용자 정의한 것\n",
        "  def forward(self, x):\n",
        "    h_relu = self.linear1(x).clamp(min=0)\n",
        "    y_pred = self.linear2(h_relu)\n",
        "    print(\"HIHI\")\n",
        "    return y_pred"
      ],
      "execution_count": 0,
      "outputs": []
    },
    {
      "cell_type": "code",
      "metadata": {
        "id": "flec3tbzkZ_o",
        "colab_type": "code",
        "outputId": "ff3120ab-0feb-473e-836b-326b6380ad54",
        "colab": {
          "base_uri": "https://localhost:8080/",
          "height": 73
        }
      },
      "source": [
        "N, D_in, H, D_out = 64, 1000, 100, 10\n",
        "\n",
        "x = Variable(torch.randn(N, D_in))\n",
        "y = Variable(torch.randn(N, D_out), requires_grad = False)\n",
        "\n",
        "model = TwoLayerNet(D_in, H, D_out)\n",
        "\n",
        "criterion = torch.nn.MSELoss(size_average=False)\n",
        "optimizer = torch.optim.SGD(model.parameters(), lr=1e-4)"
      ],
      "execution_count": 0,
      "outputs": [
        {
          "output_type": "stream",
          "text": [
            "/usr/local/lib/python3.6/dist-packages/torch/nn/_reduction.py:43: UserWarning: size_average and reduce args will be deprecated, please use reduction='sum' instead.\n",
            "  warnings.warn(warning.format(ret))\n"
          ],
          "name": "stderr"
        }
      ]
    },
    {
      "cell_type": "code",
      "metadata": {
        "id": "8NYBW6Gjkb45",
        "colab_type": "code",
        "colab": {}
      },
      "source": [
        "for t in range(500):\n",
        "  y_pred = model(x)\n",
        "\n",
        "  loss = criterion(y_pred, y)\n",
        "  print(t, loss.item())\n",
        "\n",
        "  optimizer.zero_grad()\n",
        "  loss.backward()\n",
        "  optimizer.step()"
      ],
      "execution_count": 0,
      "outputs": []
    },
    {
      "cell_type": "code",
      "metadata": {
        "id": "1ZZUIdrRlLX0",
        "colab_type": "code",
        "colab": {}
      },
      "source": [
        ""
      ],
      "execution_count": 0,
      "outputs": []
    }
  ]
}